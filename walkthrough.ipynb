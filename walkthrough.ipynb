{
 "cells": [
  {
   "cell_type": "markdown",
   "source": [
    "## 0. Install Dependencies\n",
    "\n",
    "Note: If the installation failes, try to remove the single quotes from `gym[atari]`.\n"
   ],
   "metadata": {
    "collapsed": false
   }
  },
  {
   "source": [
    "!pip install tensorflow==2.3.1 gym keras-rl2 'gym[atari]'"
   ],
   "cell_type": "code",
   "metadata": {
    "collapsed": false,
    "pycharm": {
     "name": "#%%\n"
    }
   },
   "execution_count": null,
   "outputs": []
  },
  {
   "source": [
    "## 1. Test Random Environment with OpenAI Gym"
   ],
   "cell_type": "markdown",
   "metadata": {
    "collapsed": false,
    "pycharm": {
     "name": "#%%\n"
    }
   }
  },
  {
   "cell_type": "code",
   "execution_count": 2,
   "metadata": {},
   "outputs": [],
   "source": [
    "import gym\n",
    "import random"
   ]
  },
  {
   "source": [
    "### `import gym`\n",
    "\n",
    "Imports the OpenAI gym library.\n",
    "\n",
    "### `import random`\n",
    "\n",
    "Imports the random library."
   ],
   "cell_type": "markdown",
   "metadata": {}
  },
  {
   "cell_type": "code",
   "execution_count": 3,
   "metadata": {},
   "outputs": [],
   "source": [
    "env = gym.make('SpaceInvaders-v0')\n",
    "height, width, channels = env.observation_space.shape\n",
    "actions = env.action_space.n"
   ]
  },
  {
   "source": [
    "### `env = gym.make('SpaceInvaders-v0')`\n",
    "\n",
    "Create the Space-Invaders gym environment.\n",
    "This is the frame based version (there is also a RAM-based version available).\n",
    "\n",
    "\n",
    "### `env.observation_space.shape`\n",
    "\n",
    "Retrieving a first image from the environment, which is part of the v0 state.\n",
    "Extracting the shape of the image.\n",
    "This is needed for the neural network later on.\n",
    "\n",
    "`height, width` -> height and width of the image.\n",
    "\n",
    "`channels` -> color channels of the image.\n",
    "\n",
    "### `actions = env.action_space.n`\n",
    "\n",
    "This provides the number of available actions. \n",
    "\n",
    "\n"
   ],
   "cell_type": "markdown",
   "metadata": {}
  },
  {
   "cell_type": "code",
   "execution_count": 4,
   "metadata": {},
   "outputs": [
    {
     "output_type": "execute_result",
     "data": {
      "text/plain": [
       "['NOOP', 'FIRE', 'RIGHT', 'LEFT', 'RIGHTFIRE', 'LEFTFIRE']"
      ]
     },
     "metadata": {},
     "execution_count": 4
    }
   ],
   "source": [
    "env.unwrapped.get_action_meanings()"
   ]
  },
  {
   "source": [
    "### `env.unwrapped.get_action_meanings()`\n",
    "\n",
    "Get the action names which are available.\n",
    "This are the actions our agent can actually take inside of the environment."
   ],
   "cell_type": "markdown",
   "metadata": {}
  },
  {
   "cell_type": "code",
   "execution_count": null,
   "metadata": {},
   "outputs": [],
   "source": [
    "episodes: int = 5 # playing 5 episodes of Space invaders\n",
    "for episode in episodes:\n",
    "    state = env.reset()\n",
    "    done: bool = False\n",
    "    score: int = 0\n",
    "\n",
    "    while not done:\n",
    "        env.render()\n",
    "        action = random.choice([n for n in range(6)])\n",
    "        n_state, reward, done, info = env.step(action)\n",
    "        score += reward\n",
    "    print('Episode: {} -- Score: {}'.format(episode, score))\n",
    "env.close()"
   ]
  },
  {
   "source": [
    "### `state = env.reset()`\n",
    "\n",
    "Resets the environment and returns the initial state.\n",
    "\n",
    "### `done: bool = False`\n",
    "\n",
    "If this variable is set to `True`, the game has finished and we can stop.\n",
    "Initially this variable is set to `False`.\n",
    "\n",
    "### `score: int = 0`\n",
    "\n",
    "Setting the game score to 0.\n",
    "This will be used as a measuremeht of the random actions taken."
   ],
   "cell_type": "markdown",
   "metadata": {}
  },
  {
   "cell_type": "markdown",
   "source": [
    "## 2. Create a Deep Learning Model with Keras"
   ],
   "metadata": {
    "collapsed": false
   }
  },
  {
   "cell_type": "code",
   "execution_count": null,
   "outputs": [],
   "source": [],
   "metadata": {
    "collapsed": false,
    "pycharm": {
     "name": "#%%\n"
    }
   }
  },
  {
   "cell_type": "markdown",
   "source": [
    "3. Build Agent with Keras-RL\n"
   ],
   "metadata": {
    "collapsed": false
   }
  },
  {
   "cell_type": "code",
   "execution_count": null,
   "outputs": [],
   "source": [],
   "metadata": {
    "collapsed": false,
    "pycharm": {
     "name": "#%%\n"
    }
   }
  },
  {
   "cell_type": "markdown",
   "source": [
    "4. Reloading Agent from Memory"
   ],
   "metadata": {
    "collapsed": false
   }
  },
  {
   "cell_type": "code",
   "execution_count": null,
   "outputs": [],
   "source": [],
   "metadata": {
    "collapsed": false,
    "pycharm": {
     "name": "#%%\n"
    }
   }
  }
 ],
 "metadata": {
  "kernelspec": {
   "display_name": "Python 3",
   "language": "python",
   "name": "python3"
  },
  "language_info": {
   "codemirror_mode": {
    "name": "ipython",
    "version": 2
   },
   "file_extension": ".py",
   "mimetype": "text/x-python",
   "name": "python",
   "nbconvert_exporter": "python",
   "pygments_lexer": "ipython2",
   "version": "3.6.12"
  }
 },
 "nbformat": 4,
 "nbformat_minor": 0
}